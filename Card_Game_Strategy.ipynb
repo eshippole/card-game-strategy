{
  "nbformat": 4,
  "nbformat_minor": 0,
  "metadata": {
    "colab": {
      "name": "Card_Game_Strategy.ipynb",
      "provenance": [],
      "collapsed_sections": [],
      "authorship_tag": "ABX9TyPmEZNa59m3dmo43plqjM41",
      "include_colab_link": true
    },
    "kernelspec": {
      "name": "python3",
      "display_name": "Python 3"
    }
  },
  "cells": [
    {
      "cell_type": "markdown",
      "metadata": {
        "id": "view-in-github",
        "colab_type": "text"
      },
      "source": [
        "<a href=\"https://colab.research.google.com/github/eshippole/card-game-strategy/blob/main/Card_Game_Strategy.ipynb\" target=\"_parent\"><img src=\"https://colab.research.google.com/assets/colab-badge.svg\" alt=\"Open In Colab\"/></a>"
      ]
    },
    {
      "cell_type": "code",
      "metadata": {
        "id": "Zw86SfgdanE-"
      },
      "source": [
        "sample_space = {'Heads', 'Tails'}"
      ],
      "execution_count": 1,
      "outputs": []
    },
    {
      "cell_type": "code",
      "metadata": {
        "colab": {
          "base_uri": "https://localhost:8080/"
        },
        "id": "LXORIrckQjmy",
        "outputId": "74e8c246-c475-4019-f5df-97c5a83fad9f"
      },
      "source": [
        "probability_heads = 1 / len(sample_space)\r\n",
        "print(f'Probability of choosing heads is {probability_heads}')"
      ],
      "execution_count": 2,
      "outputs": [
        {
          "output_type": "stream",
          "text": [
            "Probability of choosing heads is 0.5\n"
          ],
          "name": "stdout"
        }
      ]
    },
    {
      "cell_type": "code",
      "metadata": {
        "id": "TfDmWgqPQmpR"
      },
      "source": [
        "def is_heads_or_tails(outcome):  return outcome in {'Heads', 'Tails'}\r\n",
        "def is_neither(outcome): return not is_heads_or_tails(outcome)"
      ],
      "execution_count": 3,
      "outputs": []
    },
    {
      "cell_type": "code",
      "metadata": {
        "id": "YCvF9b5RQp9w"
      },
      "source": [
        "def is_heads(outcome): return outcome == 'Heads'\r\n",
        "def is_tails(outcome): return outcome == 'Tails'"
      ],
      "execution_count": 4,
      "outputs": []
    },
    {
      "cell_type": "code",
      "metadata": {
        "id": "0GzaVByNQsbv"
      },
      "source": [
        "def get_event(event_condition, sample_space):\r\n",
        "    return set([outcome for outcome in sample_space\r\n",
        "                if event_condition(outcome)])"
      ],
      "execution_count": 5,
      "outputs": []
    },
    {
      "cell_type": "code",
      "metadata": {
        "colab": {
          "base_uri": "https://localhost:8080/"
        },
        "id": "nfVCSqc-Qu2G",
        "outputId": "8ee57a74-5cd6-457a-df38-57a0980a61a3"
      },
      "source": [
        "event_conditions = [is_heads_or_tails, is_heads, is_tails, is_neither]\r\n",
        "\r\n",
        "for event_condition in event_conditions:\r\n",
        "    print(f\"Event Condition: {event_condition.__name__}\")\r\n",
        "    event = get_event(event_condition, sample_space)\r\n",
        "    print(f'Event: {event}\\n')"
      ],
      "execution_count": 6,
      "outputs": [
        {
          "output_type": "stream",
          "text": [
            "Event Condition: is_heads_or_tails\n",
            "Event: {'Heads', 'Tails'}\n",
            "\n",
            "Event Condition: is_heads\n",
            "Event: {'Heads'}\n",
            "\n",
            "Event Condition: is_tails\n",
            "Event: {'Tails'}\n",
            "\n",
            "Event Condition: is_neither\n",
            "Event: set()\n",
            "\n"
          ],
          "name": "stdout"
        }
      ]
    },
    {
      "cell_type": "code",
      "metadata": {
        "colab": {
          "base_uri": "https://localhost:8080/"
        },
        "id": "I7fFG3UQQxhP",
        "outputId": "ce9e0347-3d5f-4868-9178-9ea14158cd84"
      },
      "source": [
        "def compute_probability(event_condition, generic_sample_space):\r\n",
        "    event = get_event(event_condition, generic_sample_space)\r\n",
        "    return len(event) / len(generic_sample_space)\r\n",
        "\r\n",
        "for event_condition in event_conditions:\r\n",
        "    prob = compute_probability(event_condition, sample_space)\r\n",
        "    name = event_condition.__name__\r\n",
        "    print(f\"Probability of event arising from '{name}' is {prob}\")"
      ],
      "execution_count": 7,
      "outputs": [
        {
          "output_type": "stream",
          "text": [
            "Probability of event arising from 'is_heads_or_tails' is 1.0\n",
            "Probability of event arising from 'is_heads' is 0.5\n",
            "Probability of event arising from 'is_tails' is 0.5\n",
            "Probability of event arising from 'is_neither' is 0.0\n"
          ],
          "name": "stdout"
        }
      ]
    },
    {
      "cell_type": "code",
      "metadata": {
        "id": "CpETUtfUQ092"
      },
      "source": [
        ""
      ],
      "execution_count": null,
      "outputs": []
    }
  ]
}